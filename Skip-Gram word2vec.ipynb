{
 "cells": [
  {
   "cell_type": "markdown",
   "metadata": {
    "deletable": true,
    "editable": true
   },
   "source": [
    "# Skip-gram word2vec\n",
    "\n",
    "In this notebook, I'll lead you through using TensorFlow to implement the word2vec algorithm using the skip-gram architecture. By implementing this, you'll learn about embedding words for use in natural language processing. This will come in handy when dealing with things like translations.\n",
    "\n",
    "## Readings\n",
    "\n",
    "Here are the resources I used to build this notebook. I suggest reading these either beforehand or while you're working on this material.\n",
    "\n",
    "* A really good [conceptual overview](http://mccormickml.com/2016/04/19/word2vec-tutorial-the-skip-gram-model/) of word2vec from Chris McCormick \n",
    "* [First word2vec paper](https://arxiv.org/pdf/1301.3781.pdf) from Mikolov et al.\n",
    "* [NIPS paper](http://papers.nips.cc/paper/5021-distributed-representations-of-words-and-phrases-and-their-compositionality.pdf) with improvements for word2vec also from Mikolov et al.\n",
    "* An [implementation of word2vec](http://www.thushv.com/natural_language_processing/word2vec-part-1-nlp-with-deep-learning-with-tensorflow-skip-gram/) from Thushan Ganegedara\n",
    "* TensorFlow [word2vec tutorial](https://www.tensorflow.org/tutorials/word2vec)\n",
    "\n",
    "## Word embeddings\n",
    "\n",
    "When you're dealing with language and words, you end up with tens of thousands of classes to predict, one for each word. Trying to one-hot encode these words is massively inefficient, you'll have one element set to 1 and the other 50,000 set to 0. The word2vec algorithm finds much more efficient representations by finding vectors that represent the words. These vectors also contain semantic information about the words. Words that show up in similar contexts, such as \"black\", \"white\", and \"red\" will have vectors near each other. There are two architectures for implementing word2vec, CBOW (Continuous Bag-Of-Words) and Skip-gram.\n",
    "\n",
    "<img src=\"assets/word2vec_architectures.png\" width=\"500\">\n",
    "\n",
    "In this implementation, we'll be using the skip-gram architecture because it performs better than CBOW. Here, we pass in a word and try to predict the words surrounding it in the text. In this way, we can train the network to learn representations for words that show up in similar contexts.\n",
    "\n",
    "First up, importing packages."
   ]
  },
  {
   "cell_type": "code",
   "execution_count": 2,
   "metadata": {
    "collapsed": false,
    "deletable": true,
    "editable": true
   },
   "outputs": [],
   "source": [
    "import time\n",
    "\n",
    "import numpy as np\n",
    "import tensorflow as tf\n",
    "\n",
    "import utils"
   ]
  },
  {
   "cell_type": "markdown",
   "metadata": {
    "deletable": true,
    "editable": true
   },
   "source": [
    "Load the [text8 dataset](http://mattmahoney.net/dc/textdata.html), a file of cleaned up Wikipedia articles from Matt Mahoney. The next cell will download the data set to the `data` folder. Then you can extract it and delete the archive file to save storage space."
   ]
  },
  {
   "cell_type": "code",
   "execution_count": 3,
   "metadata": {
    "collapsed": false,
    "deletable": true,
    "editable": true
   },
   "outputs": [],
   "source": [
    "from urllib.request import urlretrieve\n",
    "from os.path import isfile, isdir\n",
    "from tqdm import tqdm\n",
    "import zipfile\n",
    "\n",
    "dataset_folder_path = 'data'\n",
    "dataset_filename = 'text8.zip'\n",
    "dataset_name = 'Text8 Dataset'\n",
    "\n",
    "class DLProgress(tqdm):\n",
    "    last_block = 0\n",
    "\n",
    "    def hook(self, block_num=1, block_size=1, total_size=None):\n",
    "        self.total = total_size\n",
    "        self.update((block_num - self.last_block) * block_size)\n",
    "        self.last_block = block_num\n",
    "\n",
    "if not isfile(dataset_filename):\n",
    "    with DLProgress(unit='B', unit_scale=True, miniters=1, desc=dataset_name) as pbar:\n",
    "        urlretrieve(\n",
    "            'http://mattmahoney.net/dc/text8.zip',\n",
    "            dataset_filename,\n",
    "            pbar.hook)\n",
    "\n",
    "if not isdir(dataset_folder_path):\n",
    "    with zipfile.ZipFile(dataset_filename) as zip_ref:\n",
    "        zip_ref.extractall(dataset_folder_path)\n",
    "        \n",
    "with open('data/text8') as f:\n",
    "    text = f.read()"
   ]
  },
  {
   "cell_type": "markdown",
   "metadata": {
    "deletable": true,
    "editable": true
   },
   "source": [
    "## Preprocessing\n",
    "\n",
    "Here I'm fixing up the text to make training easier. This comes from the `utils` module I wrote. The `preprocess` function coverts any punctuation into tokens, so a period is changed to ` <PERIOD> `. In this data set, there aren't any periods, but it will help in other NLP problems. I'm also removing all words that show up five or fewer times in the dataset. This will greatly reduce issues due to noise in the data and improve the quality of the vector representations. If you want to write your own functions for this stuff, go for it."
   ]
  },
  {
   "cell_type": "code",
   "execution_count": 4,
   "metadata": {
    "collapsed": false,
    "deletable": true,
    "editable": true
   },
   "outputs": [
    {
     "name": "stdout",
     "output_type": "stream",
     "text": [
      "['anarchism', 'originated', 'as', 'a', 'term', 'of', 'abuse', 'first', 'used', 'against', 'early', 'working', 'class', 'radicals', 'including', 'the', 'diggers', 'of', 'the', 'english', 'revolution', 'and', 'the', 'sans', 'culottes', 'of', 'the', 'french', 'revolution', 'whilst']\n"
     ]
    }
   ],
   "source": [
    "words = utils.preprocess(text)\n",
    "print(words[:30])"
   ]
  },
  {
   "cell_type": "code",
   "execution_count": 5,
   "metadata": {
    "collapsed": false,
    "deletable": true,
    "editable": true
   },
   "outputs": [
    {
     "name": "stdout",
     "output_type": "stream",
     "text": [
      "Total words: 16680599\n",
      "Unique words: 63641\n"
     ]
    }
   ],
   "source": [
    "print(\"Total words: {}\".format(len(words)))\n",
    "print(\"Unique words: {}\".format(len(set(words))))"
   ]
  },
  {
   "cell_type": "markdown",
   "metadata": {
    "deletable": true,
    "editable": true
   },
   "source": [
    "And here I'm creating dictionaries to covert words to integers and backwards, integers to words. The integers are assigned in descending frequency order, so the most frequent word (\"the\") is given the integer 0 and the next most frequent is 1 and so on. The words are converted to integers and stored in the list `int_words`."
   ]
  },
  {
   "cell_type": "code",
   "execution_count": 6,
   "metadata": {
    "collapsed": false,
    "deletable": true,
    "editable": true
   },
   "outputs": [
    {
     "name": "stdout",
     "output_type": "stream",
     "text": [
      "0\n",
      "of\n",
      "[5233, 3080, 11, 5, 194, 1, 3133, 45, 58, 155, 127, 741, 476, 10571, 133, 0, 27349, 1, 0, 102, 854, 2, 0, 15067, 58112, 1, 0, 150, 854, 3580]\n"
     ]
    }
   ],
   "source": [
    "vocab_to_int, int_to_vocab = utils.create_lookup_tables(words)\n",
    "print (vocab_to_int['the'])\n",
    "print (int_to_vocab[1])\n",
    "int_words = [vocab_to_int[word] for word in words]\n",
    "print(int_words[:30])"
   ]
  },
  {
   "cell_type": "markdown",
   "metadata": {
    "deletable": true,
    "editable": true
   },
   "source": [
    "## Subsampling\n",
    "\n",
    "Words that show up often such as \"the\", \"of\", and \"for\" don't provide much context to the nearby words. If we discard some of them, we can remove some of the noise from our data and in return get faster training and better representations. This process is called subsampling by Mikolov. For each word $w_i$ in the training set, we'll discard it with probability given by \n",
    "\n",
    "$$ P(w_i) = 1 - \\sqrt{\\frac{t}{f(w_i)}} $$\n",
    "\n",
    "where $t$ is a threshold parameter and $f(w_i)$ is the frequency of word $w_i$ in the total dataset.\n",
    "\n",
    "I'm going to leave this up to you as an exercise. This is more of a programming challenge, than about deep learning specifically. But, being able to prepare your data for your network is an important skill to have. Check out my solution to see how I did it.\n",
    "\n",
    "> **Exercise:** Implement subsampling for the words in `int_words`. That is, go through `int_words` and discard each word given the probablility $P(w_i)$ shown above. Note that $P(w_i)$ is the probability that a word is discarded. Assign the subsampled data to `train_words`."
   ]
  },
  {
   "cell_type": "code",
   "execution_count": 7,
   "metadata": {
    "collapsed": false,
    "deletable": true,
    "editable": true
   },
   "outputs": [],
   "source": [
    "from collections import Counter\n",
    "import random\n",
    "\n",
    "threshold = 1e-5\n",
    "word_counts = Counter(int_words)\n",
    "total_count = len(int_words)\n",
    "freqs = {word: count/total_count for word, count in word_counts.items()}\n",
    "p_drop = {word: 1 - np.sqrt(threshold/freqs[word]) for word in word_counts}\n",
    "train_words = [word for word in int_words if p_drop[word] < random.random()]"
   ]
  },
  {
   "cell_type": "markdown",
   "metadata": {
    "deletable": true,
    "editable": true
   },
   "source": [
    "## Making batches"
   ]
  },
  {
   "cell_type": "markdown",
   "metadata": {
    "deletable": true,
    "editable": true
   },
   "source": [
    "Now that our data is in good shape, we need to get it into the proper form to pass it into our network. With the skip-gram architecture, for each word in the text, we want to grab all the words in a window around that word, with size $C$. \n",
    "\n",
    "From [Mikolov et al.](https://arxiv.org/pdf/1301.3781.pdf): \n",
    "\n",
    "\"Since the more distant words are usually less related to the current word than those close to it, we give less weight to the distant words by sampling less from those words in our training examples... If we choose $C = 5$, for each training word we will select randomly a number $R$ in range $< 1; C >$, and then use $R$ words from history and $R$ words from the future of the current word as correct labels.\"\n",
    "\n",
    "> **Exercise:** Implement a function `get_target` that receives a list of words, an index, and a window size, then returns a list of words in the window around the index. Make sure to use the algorithm described above, where you choose a random number of words from the window."
   ]
  },
  {
   "cell_type": "code",
   "execution_count": 8,
   "metadata": {
    "collapsed": true,
    "deletable": true,
    "editable": true
   },
   "outputs": [],
   "source": [
    "def get_target(words, idx, window_size=5):\n",
    "    ''' Get a list of words in a window around an index. '''\n",
    "    R = np.random.randint(1, window_size+1)\n",
    "    start = idx - R if (idx - R) > 0 else 0\n",
    "    stop = idx + R\n",
    "    target_words = set(words[start:idx] + words[idx+1:stop+1])\n",
    "    \n",
    "    return list(target_words)"
   ]
  },
  {
   "cell_type": "markdown",
   "metadata": {
    "deletable": true,
    "editable": true
   },
   "source": [
    "Here's a function that returns batches for our network. The idea is that it grabs `batch_size` words from a words list. Then for each of those words, it gets the target words in the window. I haven't found a way to pass in a random number of target words and get it to work with the architecture, so I make one row per input-target pair. This is a generator function by the way, helps save memory."
   ]
  },
  {
   "cell_type": "code",
   "execution_count": 9,
   "metadata": {
    "collapsed": false,
    "deletable": true,
    "editable": true
   },
   "outputs": [],
   "source": [
    "def get_batches(words, batch_size, window_size=5):\n",
    "    ''' Create a generator of word batches as a tuple (inputs, targets) '''\n",
    "    \n",
    "    n_batches = len(words)//batch_size\n",
    "    \n",
    "    # only full batches\n",
    "    words = words[:n_batches*batch_size]\n",
    "    \n",
    "    for idx in range(0, len(words), batch_size):\n",
    "        x, y = [], []\n",
    "        batch = words[idx:idx+batch_size]\n",
    "        for ii in range(len(batch)):\n",
    "            batch_x = batch[ii]\n",
    "            batch_y = get_target(batch, ii, window_size)\n",
    "            y.extend(batch_y)\n",
    "            x.extend([batch_x]*len(batch_y))\n",
    "        yield x, y\n",
    "    "
   ]
  },
  {
   "cell_type": "markdown",
   "metadata": {
    "collapsed": false,
    "deletable": true,
    "editable": true
   },
   "source": [
    "## Building the graph\n",
    "\n",
    "From Chris McCormick's blog, we can see the general structure of our network.\n",
    "![embedding_network](./assets/skip_gram_net_arch.png)\n",
    "\n",
    "The input words are passed in as one-hot encoded vectors. This will go into a hidden layer of linear units, then into a softmax layer. We'll use the softmax layer to make a prediction like normal.\n",
    "\n",
    "The idea here is to train the hidden layer weight matrix to find efficient representations for our words. This weight matrix is usually called the embedding matrix or embedding look-up table. We can discard the softmax layer becuase we don't really care about making predictions with this network. We just want the embedding matrix so we can use it in other networks we build from the dataset.\n",
    "\n",
    "I'm going to have you build the graph in stages now. First off, creating the `inputs` and `labels` placeholders like normal.\n",
    "\n",
    "> **Exercise:** Assign `inputs` and `labels` using `tf.placeholder`. We're going to be passing in integers, so set the data types to `tf.int32`. The batches we're passing in will have varying sizes, so set the batch sizes to [`None`]. To make things work later, you'll need to set the second dimension of `labels` to `None` or `1`."
   ]
  },
  {
   "cell_type": "code",
   "execution_count": 11,
   "metadata": {
    "collapsed": false,
    "deletable": true,
    "editable": true
   },
   "outputs": [],
   "source": [
    "train_graph = tf.Graph()\n",
    "with train_graph.as_default():\n",
    "    inputs = tf.placeholder(tf.int32, [None], name='inputs')\n",
    "    labels = tf.placeholder(tf.int32, [None, None], name='labels')"
   ]
  },
  {
   "cell_type": "markdown",
   "metadata": {
    "deletable": true,
    "editable": true
   },
   "source": [
    "## Embedding\n",
    "\n"
   ]
  },
  {
   "cell_type": "markdown",
   "metadata": {
    "collapsed": true,
    "deletable": true,
    "editable": true
   },
   "source": [
    "The embedding matrix has a size of the number of words by the number of neurons in the hidden layer. So, if you have 10,000 words and 300 hidden units, the matrix will have size $10,000 \\times 300$. Remember that we're using one-hot encoded vectors for our inputs. When you do the matrix multiplication of the one-hot vector with the embedding matrix, you end up selecting only one row out of the entire matrix:\n",
    "\n",
    "![one-hot matrix multiplication](assets/matrix_mult_w_one_hot.png)\n",
    "\n",
    "You don't actually need to do the matrix multiplication, you just need to select the row in the embedding matrix that corresponds to the input word. Then, the embedding matrix becomes a lookup table, you're looking up a vector the size of the hidden layer that represents the input word.\n",
    "\n",
    "<img src=\"assets/word2vec_weight_matrix_lookup_table.png\" width=500>\n",
    "\n",
    "\n",
    "> **Exercise:** Tensorflow provides a convenient function [`tf.nn.embedding_lookup`](https://www.tensorflow.org/api_docs/python/tf/nn/embedding_lookup) that does this lookup for us. You pass in the embedding matrix and a tensor of integers, then it returns rows in the matrix corresponding to those integers. Below, set the number of embedding features you'll use (200 is a good start), create the embedding matrix variable, and use [`tf.nn.embedding_lookup`](https://www.tensorflow.org/api_docs/python/tf/nn/embedding_lookup) to get the embedding tensors. For the embedding matrix, I suggest you initialize it with a uniform random numbers between -1 and 1 using [tf.random_uniform](https://www.tensorflow.org/api_docs/python/tf/random_uniform). This [TensorFlow tutorial](https://www.tensorflow.org/tutorials/word2vec) will help if you get stuck."
   ]
  },
  {
   "cell_type": "code",
   "execution_count": 12,
   "metadata": {
    "collapsed": false,
    "deletable": true,
    "editable": true
   },
   "outputs": [],
   "source": [
    "n_vocab = len(int_to_vocab)\n",
    "n_embedding = 200 # Number of embedding features \n",
    "with train_graph.as_default():\n",
    "    embedding = tf.Variable(tf.random_uniform((n_vocab, n_embedding), -1, 1))\n",
    "    embed = tf.nn.embedding_lookup(embedding, inputs)"
   ]
  },
  {
   "cell_type": "markdown",
   "metadata": {
    "deletable": true,
    "editable": true
   },
   "source": [
    "## Negative sampling\n",
    "\n"
   ]
  },
  {
   "cell_type": "markdown",
   "metadata": {
    "deletable": true,
    "editable": true
   },
   "source": [
    "For every example we give the network, we train it using the output from the softmax layer. That means for each input, we're making very small changes to millions of weights even though we only have one true example. This makes training the network very inefficient. We can approximate the loss from the softmax layer by only updating a small subset of all the weights at once. We'll update the weights for the correct label, but only a small number of incorrect labels. This is called [\"negative sampling\"](http://papers.nips.cc/paper/5021-distributed-representations-of-words-and-phrases-and-their-compositionality.pdf). Tensorflow has a convenient function to do this, [`tf.nn.sampled_softmax_loss`](https://www.tensorflow.org/api_docs/python/tf/nn/sampled_softmax_loss).\n",
    "\n",
    "> **Exercise:** Below, create weights and biases for the softmax layer. Then, use [`tf.nn.sampled_softmax_loss`](https://www.tensorflow.org/api_docs/python/tf/nn/sampled_softmax_loss) to calculate the loss. Be sure to read the documentation to figure out how it works."
   ]
  },
  {
   "cell_type": "code",
   "execution_count": 13,
   "metadata": {
    "collapsed": false,
    "deletable": true,
    "editable": true
   },
   "outputs": [],
   "source": [
    "# Number of negative labels to sample\n",
    "n_sampled = 100\n",
    "with train_graph.as_default():\n",
    "    softmax_w = tf.Variable(tf.truncated_normal((n_vocab, n_embedding), stddev=0.1))\n",
    "    softmax_b = tf.Variable(tf.zeros(n_vocab))\n",
    "    \n",
    "    # Calculate the loss using negative sampling\n",
    "    loss = tf.nn.sampled_softmax_loss(softmax_w, softmax_b, \n",
    "                                      labels, embed,\n",
    "                                      n_sampled, n_vocab)\n",
    "    \n",
    "    cost = tf.reduce_mean(loss)\n",
    "    optimizer = tf.train.AdamOptimizer().minimize(cost)"
   ]
  },
  {
   "cell_type": "markdown",
   "metadata": {
    "deletable": true,
    "editable": true
   },
   "source": [
    "## Validation\n",
    "\n",
    "This code is from Thushan Ganegedara's implementation. Here we're going to choose a few common words and few uncommon words. Then, we'll print out the closest words to them. It's a nice way to check that our embedding table is grouping together words with similar semantic meanings."
   ]
  },
  {
   "cell_type": "code",
   "execution_count": 15,
   "metadata": {
    "collapsed": true,
    "deletable": true,
    "editable": true
   },
   "outputs": [],
   "source": [
    "with train_graph.as_default():\n",
    "    ## From Thushan Ganegedara's implementation\n",
    "    valid_size = 16 # Random set of words to evaluate similarity on.\n",
    "    valid_window = 100\n",
    "    # pick 8 samples from (0,100) and (1000,1100) each ranges. lower id implies more frequent \n",
    "    valid_examples = np.array(random.sample(range(valid_window), valid_size//2))\n",
    "    valid_examples = np.append(valid_examples, \n",
    "                               random.sample(range(1000,1000+valid_window), valid_size//2))\n",
    "\n",
    "    valid_dataset = tf.constant(valid_examples, dtype=tf.int32)\n",
    "    \n",
    "    # We use the cosine distance:\n",
    "    norm = tf.sqrt(tf.reduce_sum(tf.square(embedding), 1, keep_dims=True))\n",
    "    normalized_embedding = embedding / norm\n",
    "    valid_embedding = tf.nn.embedding_lookup(normalized_embedding, valid_dataset)\n",
    "    similarity = tf.matmul(valid_embedding, tf.transpose(normalized_embedding))"
   ]
  },
  {
   "cell_type": "code",
   "execution_count": 16,
   "metadata": {
    "collapsed": true,
    "deletable": true,
    "editable": true
   },
   "outputs": [],
   "source": [
    "# If the checkpoints directory doesn't exist:\n",
    "!mkdir checkpoints"
   ]
  },
  {
   "cell_type": "markdown",
   "metadata": {
    "deletable": true,
    "editable": true
   },
   "source": [
    "## Training\n",
    "\n",
    "Below is the code to train the network. Every 100 batches it reports the training loss. Every 1000 batches, it'll print out the validation words."
   ]
  },
  {
   "cell_type": "code",
   "execution_count": null,
   "metadata": {
    "collapsed": false,
    "deletable": true,
    "editable": true
   },
   "outputs": [
    {
     "name": "stdout",
     "output_type": "stream",
     "text": [
      "Epoch 1/10 Iteration: 100 Avg. Training loss: 5.6747 0.3175 sec/batch\n",
      "Epoch 1/10 Iteration: 200 Avg. Training loss: 5.6226 0.3308 sec/batch\n",
      "Epoch 1/10 Iteration: 300 Avg. Training loss: 5.4992 0.3422 sec/batch\n",
      "Epoch 1/10 Iteration: 400 Avg. Training loss: 5.6017 0.3288 sec/batch\n",
      "Epoch 1/10 Iteration: 500 Avg. Training loss: 5.4880 0.3321 sec/batch\n",
      "Epoch 1/10 Iteration: 600 Avg. Training loss: 5.5302 0.3565 sec/batch\n",
      "Epoch 1/10 Iteration: 700 Avg. Training loss: 5.5561 0.3272 sec/batch\n",
      "Epoch 1/10 Iteration: 800 Avg. Training loss: 5.5265 0.3129 sec/batch\n",
      "Epoch 1/10 Iteration: 900 Avg. Training loss: 5.4543 0.3102 sec/batch\n",
      "Epoch 1/10 Iteration: 1000 Avg. Training loss: 5.4513 0.3020 sec/batch\n",
      "Nearest to d: cabriolet, roly, circularly, ferreira, poids, thyestes, laughter, tsu,\n",
      "Nearest to is: size, doorstep, only, ack, lautering, necessity, gore, countless,\n",
      "Nearest to than: undaunted, distorting, moon, blockbusters, railways, lland, receives, cows,\n",
      "Nearest to zero: couldn, licit, they, nuts, lsp, vast, applicant, prescriptive,\n",
      "Nearest to would: trickster, taur, akimbo, gotta, les, aspirant, turns, him,\n",
      "Nearest to during: thing, normally, bar, rearguard, emacs, tro, bipartisan, trivia,\n",
      "Nearest to more: terming, abaci, parlay, engages, systematic, chaos, sympathetically, sequitur,\n",
      "Nearest to nine: carbon, olfactory, beleaguered, fellows, treaties, chueca, ketamine, mycenae,\n",
      "Nearest to hold: commentary, stinger, plurality, iron, kilda, u, aage, mughal,\n",
      "Nearest to gold: flood, scholastics, spokesman, designates, characteristic, monstrous, angra, primates,\n",
      "Nearest to proposed: vostok, attorneys, kendrew, egos, protector, vg, ntc, staffed,\n",
      "Nearest to institute: jimi, anointing, macabre, rohan, holtz, normans, fsf, shoreditch,\n",
      "Nearest to hit: leeves, dining, aquatic, gentile, steinbeck, myrinet, abrogated, zwicker,\n",
      "Nearest to units: varig, torts, litt, producers, dachshunds, ailes, contractor, uptake,\n",
      "Nearest to police: methodological, aradia, nitrate, atp, adherence, newberry, radiodiffusion, unheated,\n",
      "Nearest to paris: bertil, ais, unhealthy, insistent, stalin, chitin, undisciplined, fisa,\n",
      "Epoch 1/10 Iteration: 1100 Avg. Training loss: 5.5242 0.3087 sec/batch\n",
      "Epoch 1/10 Iteration: 1200 Avg. Training loss: 5.4062 0.3092 sec/batch\n",
      "Epoch 1/10 Iteration: 1300 Avg. Training loss: 5.3153 0.3210 sec/batch\n",
      "Epoch 1/10 Iteration: 1400 Avg. Training loss: 5.2577 0.3104 sec/batch\n",
      "Epoch 1/10 Iteration: 1500 Avg. Training loss: 5.1820 0.3050 sec/batch\n",
      "Epoch 1/10 Iteration: 1600 Avg. Training loss: 5.1472 0.3152 sec/batch\n",
      "Epoch 1/10 Iteration: 1700 Avg. Training loss: 5.1046 0.3319 sec/batch\n",
      "Epoch 1/10 Iteration: 1800 Avg. Training loss: 5.0603 0.3148 sec/batch\n",
      "Epoch 1/10 Iteration: 1900 Avg. Training loss: 5.0061 0.3038 sec/batch\n",
      "Epoch 1/10 Iteration: 2000 Avg. Training loss: 4.9739 0.3128 sec/batch\n",
      "Nearest to d: circularly, inspiration, laughter, cabriolet, song, ferreira, pseudo, roly,\n",
      "Nearest to is: size, only, doorstep, necessity, ack, countless, nearby, lautering,\n",
      "Nearest to than: moon, receives, pattern, public, aquatic, railways, sitting, blockbusters,\n",
      "Nearest to zero: couldn, vast, licit, they, lsp, against, champions, march,\n",
      "Nearest to would: trickster, turns, him, taur, forest, les, top, expanded,\n",
      "Nearest to during: thing, normally, bar, trivia, on, rearguard, damaging, emacs,\n",
      "Nearest to more: systematic, terming, abaci, parlay, chaos, engages, satellite, ski,\n",
      "Nearest to nine: fellows, treaties, uk, carbon, cadillac, beleaguered, lin, jerseys,\n",
      "Nearest to hold: u, commentary, iron, negative, collateral, causes, fighting, stay,\n",
      "Nearest to gold: flood, characteristic, scholastics, spokesman, monstrous, designates, primates, mechanical,\n",
      "Nearest to proposed: vostok, attorneys, protector, staffed, spectacular, content, egos, where,\n",
      "Nearest to institute: macabre, anointing, jimi, hours, normans, possible, privately, applied,\n",
      "Nearest to hit: leeves, aquatic, dining, shape, draft, gentile, made, contrasts,\n",
      "Nearest to units: producers, green, controlled, varig, back, sacrifices, torts, etc,\n",
      "Nearest to police: methodological, aradia, adherence, radiodiffusion, atp, nitrate, interchangeable, next,\n",
      "Nearest to paris: bertil, difficulty, stalin, unhealthy, fine, ais, bruce, runways,\n",
      "Epoch 1/10 Iteration: 2100 Avg. Training loss: 4.9295 0.3161 sec/batch\n",
      "Epoch 1/10 Iteration: 2200 Avg. Training loss: 4.8992 0.3109 sec/batch\n",
      "Epoch 1/10 Iteration: 2300 Avg. Training loss: 4.8477 0.3010 sec/batch\n",
      "Epoch 1/10 Iteration: 2400 Avg. Training loss: 4.8766 0.2996 sec/batch\n",
      "Epoch 1/10 Iteration: 2500 Avg. Training loss: 4.8117 0.2986 sec/batch\n",
      "Epoch 1/10 Iteration: 2600 Avg. Training loss: 4.8327 0.2986 sec/batch\n",
      "Epoch 1/10 Iteration: 2700 Avg. Training loss: 4.8137 0.2996 sec/batch\n",
      "Epoch 1/10 Iteration: 2800 Avg. Training loss: 4.8033 0.3082 sec/batch\n",
      "Epoch 1/10 Iteration: 2900 Avg. Training loss: 4.7960 0.3114 sec/batch\n",
      "Epoch 1/10 Iteration: 3000 Avg. Training loss: 4.7855 0.3120 sec/batch\n",
      "Nearest to d: circularly, laughter, inspiration, ferreira, congressman, jewels, popularized, reliance,\n",
      "Nearest to is: size, countless, only, doorstep, necessity, ack, gamers, lautering,\n",
      "Nearest to than: moon, receives, railways, aquatic, blockbusters, distorting, wholly, undaunted,\n",
      "Nearest to zero: champions, lsp, couldn, vast, march, shirt, licit, tamers,\n",
      "Nearest to would: trickster, forest, undesirable, taur, expanded, turns, ej, les,\n",
      "Nearest to during: thing, normally, bar, emacs, trivia, bipartisan, damaging, rearguard,\n",
      "Nearest to more: systematic, parlay, engages, terming, abaci, satellite, chaos, save,\n",
      "Nearest to nine: fellows, treaties, uk, cadillac, instructors, lin, illiterate, february,\n",
      "Nearest to hold: iron, collateral, plurality, negative, commentary, cube, thee, culmination,\n",
      "Nearest to gold: flood, spokesman, characteristic, scholastics, monstrous, designates, practised, primates,\n",
      "Nearest to proposed: attorneys, vostok, protector, staffed, attractions, spectacular, where, governing,\n",
      "Nearest to institute: macabre, jimi, anointing, normans, holtz, hours, rohan, fsf,\n",
      "Nearest to hit: shape, leeves, aquatic, draft, gentile, made, dining, remember,\n",
      "Nearest to units: producers, controlled, torts, varig, litt, obliged, archipelago, green,\n",
      "Nearest to police: methodological, adherence, interchangeable, nitrate, radiodiffusion, next, atp, aradia,\n",
      "Nearest to paris: bertil, ais, stalin, difficulty, unhealthy, insistent, fine, undisciplined,\n",
      "Epoch 1/10 Iteration: 3100 Avg. Training loss: 4.7863 0.3082 sec/batch\n",
      "Epoch 1/10 Iteration: 3200 Avg. Training loss: 4.7563 0.3077 sec/batch\n",
      "Epoch 1/10 Iteration: 3300 Avg. Training loss: 4.7224 0.3206 sec/batch\n",
      "Epoch 1/10 Iteration: 3400 Avg. Training loss: 4.7065 0.3170 sec/batch\n",
      "Epoch 1/10 Iteration: 3500 Avg. Training loss: 4.7199 0.3335 sec/batch\n",
      "Epoch 1/10 Iteration: 3600 Avg. Training loss: 4.7150 0.3256 sec/batch\n",
      "Epoch 1/10 Iteration: 3700 Avg. Training loss: 4.7127 0.3136 sec/batch\n",
      "Epoch 1/10 Iteration: 3800 Avg. Training loss: 4.7080 0.3277 sec/batch\n",
      "Epoch 1/10 Iteration: 3900 Avg. Training loss: 4.6812 0.3221 sec/batch\n",
      "Epoch 1/10 Iteration: 4000 Avg. Training loss: 4.6616 0.3260 sec/batch\n",
      "Nearest to d: congressman, poet, circularly, laughter, six, jewels, ferreira, nobel,\n",
      "Nearest to is: size, ack, gamers, countless, only, statistic, doorstep, klux,\n",
      "Nearest to than: moon, distorting, undaunted, receives, railways, blockbusters, commando, aquatic,\n",
      "Nearest to zero: champions, lsp, march, six, five, tamers, vast, licit,\n",
      "Nearest to would: taur, ej, trickster, beard, expanded, undesirable, turns, rothbard,\n",
      "Nearest to during: normally, bar, thing, emacs, tro, birthrate, fido, bipartisan,\n",
      "Nearest to more: systematic, parlay, engages, terming, abaci, poke, chaos, bronte,\n",
      "Nearest to nine: fellows, eight, two, presenter, treaties, uk, tracy, guests,\n",
      "Nearest to hold: plurality, negative, thee, cube, culmination, commentary, kilda, collateral,\n",
      "Nearest to gold: flood, scholastics, spokesman, monstrous, practised, characteristic, duped, designates,\n",
      "Nearest to proposed: attorneys, vostok, staffed, kendrew, individuals, egos, protector, ntc,\n",
      "Nearest to institute: jimi, macabre, anointing, normans, holtz, rohan, tributes, hours,\n",
      "Nearest to hit: draft, gentile, leeves, shape, abrogated, dining, northeasterly, guides,\n",
      "Nearest to units: producers, litt, varig, archipelago, torts, controlled, disrupted, rainfall,\n",
      "Nearest to police: methodological, adherence, aradia, nitrate, atp, ruling, radiodiffusion, interchangeable,\n",
      "Nearest to paris: bertil, ais, unhealthy, french, insistent, undisciplined, stalin, bruce,\n",
      "Epoch 1/10 Iteration: 4100 Avg. Training loss: 4.6909 0.3372 sec/batch\n",
      "Epoch 1/10 Iteration: 4200 Avg. Training loss: 4.6737 0.3463 sec/batch\n",
      "Epoch 1/10 Iteration: 4300 Avg. Training loss: 4.6143 0.3476 sec/batch\n",
      "Epoch 1/10 Iteration: 4400 Avg. Training loss: 4.6408 0.3486 sec/batch\n",
      "Epoch 1/10 Iteration: 4500 Avg. Training loss: 4.6276 0.3487 sec/batch\n",
      "Epoch 1/10 Iteration: 4600 Avg. Training loss: 4.6382 0.3184 sec/batch\n",
      "Epoch 2/10 Iteration: 4700 Avg. Training loss: 4.6117 0.2326 sec/batch\n",
      "Epoch 2/10 Iteration: 4800 Avg. Training loss: 4.5361 0.3231 sec/batch\n",
      "Epoch 2/10 Iteration: 4900 Avg. Training loss: 4.4808 0.3217 sec/batch\n",
      "Epoch 2/10 Iteration: 5000 Avg. Training loss: 4.5383 0.3077 sec/batch\n",
      "Nearest to d: poet, congressman, nobel, physicist, six, ernest, writer, composer,\n",
      "Nearest to is: size, gamers, statistic, only, ack, empirical, doorstep, logarithm,\n",
      "Nearest to than: distorting, moon, receives, undaunted, pattern, blockbusters, railways, commando,\n",
      "Nearest to zero: champions, lsp, six, five, tamers, march, eight, nine,\n",
      "Nearest to would: taur, trickster, gotta, ej, rothbard, undesirable, turns, cooperate,\n",
      "Nearest to during: birthrate, rearguard, thing, normally, fido, tro, bipartisan, damaging,\n",
      "Nearest to more: parlay, systematic, engages, abaci, terming, prey, farnese, poke,\n",
      "Nearest to nine: eight, presenter, fellows, comedian, two, tracy, musician, treaties,\n",
      "Nearest to hold: plurality, culmination, negative, thee, cube, commentary, kilda, stinger,\n",
      "Nearest to gold: flood, scholastics, spokesman, duped, perle, practised, characteristic, endosymbionts,\n",
      "Nearest to proposed: attorneys, staffed, vostok, kendrew, egos, individuals, ntc, governing,\n",
      "Nearest to institute: macabre, jimi, normans, holtz, anointing, rohan, tributes, dimmer,\n",
      "Nearest to hit: draft, leeves, gentile, extort, remember, shape, abrogated, dining,\n",
      "Nearest to units: producers, litt, rainfall, torts, kilda, dehydration, controlled, varig,\n",
      "Nearest to police: methodological, aradia, radiodiffusion, adherence, arbitrage, nitrate, ruling, interchangeable,\n",
      "Nearest to paris: bertil, ais, french, unhealthy, bruce, undisciplined, insistent, ouen,\n",
      "Epoch 2/10 Iteration: 5100 Avg. Training loss: 4.5097 0.3393 sec/batch\n",
      "Epoch 2/10 Iteration: 5200 Avg. Training loss: 4.4851 0.3151 sec/batch\n",
      "Epoch 2/10 Iteration: 5300 Avg. Training loss: 4.4575 0.3110 sec/batch\n",
      "Epoch 2/10 Iteration: 5400 Avg. Training loss: 4.5621 0.3052 sec/batch\n",
      "Epoch 2/10 Iteration: 5500 Avg. Training loss: 4.4940 0.3113 sec/batch\n",
      "Epoch 2/10 Iteration: 5600 Avg. Training loss: 4.4715 0.3038 sec/batch\n",
      "Epoch 2/10 Iteration: 5700 Avg. Training loss: 4.4523 0.3175 sec/batch\n",
      "Epoch 2/10 Iteration: 5800 Avg. Training loss: 4.4099 0.3023 sec/batch\n",
      "Epoch 2/10 Iteration: 5900 Avg. Training loss: 4.4115 0.2997 sec/batch\n",
      "Epoch 2/10 Iteration: 6000 Avg. Training loss: 4.4357 0.2955 sec/batch\n",
      "Nearest to d: poet, congressman, nobel, ernest, circularly, physicist, ferreira, laughter,\n",
      "Nearest to is: size, gamers, statistic, empirical, only, ack, logarithm, lautering,\n",
      "Nearest to than: distorting, pattern, moon, receives, undaunted, railways, blockbusters, aquatic,\n",
      "Nearest to zero: six, five, champions, lsp, tamers, eight, licit, unemployment,\n",
      "Nearest to would: taur, cooperate, trickster, gotta, charming, rothbard, ej, jamnia,\n",
      "Nearest to during: rearguard, birthrate, thing, normally, bipartisan, fido, trading, tro,\n",
      "Nearest to more: parlay, systematic, terming, engages, abaci, farnese, barrel, poke,\n",
      "Nearest to nine: eight, presenter, zero, uk, fellows, treaties, derivations, guests,\n",
      "Nearest to hold: plurality, cube, commentary, stinger, thee, negative, collateral, culmination,\n",
      "Nearest to gold: flood, perle, water, manganese, spokesman, practised, batting, scholastics,\n",
      "Nearest to proposed: attorneys, staffed, vostok, kendrew, egos, individuals, ntc, content,\n",
      "Nearest to institute: macabre, jimi, holtz, tributes, normans, rohan, anointing, dimmer,\n",
      "Nearest to hit: draft, extort, remember, succ, gentile, meaningfully, northeasterly, joe,\n",
      "Nearest to units: producers, dehydration, litt, torts, rainfall, varig, archipelago, webmail,\n",
      "Nearest to police: methodological, arbitrage, aradia, radiodiffusion, adherence, pretensions, prison, nitrate,\n",
      "Nearest to paris: bertil, french, ais, undisciplined, anatomist, insistent, bruce, ouen,\n",
      "Epoch 2/10 Iteration: 6100 Avg. Training loss: 4.4415 0.3020 sec/batch\n",
      "Epoch 2/10 Iteration: 6200 Avg. Training loss: 4.4291 0.3202 sec/batch\n",
      "Epoch 2/10 Iteration: 6300 Avg. Training loss: 4.4188 0.3061 sec/batch\n",
      "Epoch 2/10 Iteration: 6400 Avg. Training loss: 4.4283 0.3280 sec/batch\n",
      "Epoch 2/10 Iteration: 6500 Avg. Training loss: 4.3943 0.3284 sec/batch\n",
      "Epoch 2/10 Iteration: 6600 Avg. Training loss: 4.4432 0.3062 sec/batch\n",
      "Epoch 2/10 Iteration: 6700 Avg. Training loss: 4.3708 0.3056 sec/batch\n",
      "Epoch 2/10 Iteration: 6800 Avg. Training loss: 4.4038 0.3125 sec/batch\n",
      "Epoch 2/10 Iteration: 6900 Avg. Training loss: 4.3956 0.3239 sec/batch\n"
     ]
    }
   ],
   "source": [
    "epochs = 10\n",
    "batch_size = 1000\n",
    "window_size = 10\n",
    "\n",
    "with train_graph.as_default():\n",
    "    saver = tf.train.Saver()\n",
    "\n",
    "with tf.Session(graph=train_graph) as sess:\n",
    "    iteration = 1\n",
    "    loss = 0\n",
    "    sess.run(tf.global_variables_initializer())\n",
    "\n",
    "    for e in range(1, epochs+1):\n",
    "        batches = get_batches(train_words, batch_size, window_size)\n",
    "        start = time.time()\n",
    "        for x, y in batches:\n",
    "            \n",
    "            feed = {inputs: x,\n",
    "                    labels: np.array(y)[:, None]}\n",
    "            train_loss, _ = sess.run([cost, optimizer], feed_dict=feed)\n",
    "            \n",
    "            loss += train_loss\n",
    "            \n",
    "            if iteration % 100 == 0: \n",
    "                end = time.time()\n",
    "                print(\"Epoch {}/{}\".format(e, epochs),\n",
    "                      \"Iteration: {}\".format(iteration),\n",
    "                      \"Avg. Training loss: {:.4f}\".format(loss/100),\n",
    "                      \"{:.4f} sec/batch\".format((end-start)/100))\n",
    "                loss = 0\n",
    "                start = time.time()\n",
    "            \n",
    "            if iteration % 1000 == 0:\n",
    "                ## From Thushan Ganegedara's implementation\n",
    "                # note that this is expensive (~20% slowdown if computed every 500 steps)\n",
    "                sim = similarity.eval()\n",
    "                for i in range(valid_size):\n",
    "                    valid_word = int_to_vocab[valid_examples[i]]\n",
    "                    top_k = 8 # number of nearest neighbors\n",
    "                    nearest = (-sim[i, :]).argsort()[1:top_k+1]\n",
    "                    log = 'Nearest to %s:' % valid_word\n",
    "                    for k in range(top_k):\n",
    "                        close_word = int_to_vocab[nearest[k]]\n",
    "                        log = '%s %s,' % (log, close_word)\n",
    "                    print(log)\n",
    "            \n",
    "            iteration += 1\n",
    "    save_path = saver.save(sess, \"checkpoints/text8.ckpt\")\n",
    "    embed_mat = sess.run(normalized_embedding)"
   ]
  },
  {
   "cell_type": "markdown",
   "metadata": {
    "deletable": true,
    "editable": true
   },
   "source": [
    "Restore the trained network if you need to:"
   ]
  },
  {
   "cell_type": "code",
   "execution_count": null,
   "metadata": {
    "collapsed": false,
    "deletable": true,
    "editable": true
   },
   "outputs": [],
   "source": [
    "with train_graph.as_default():\n",
    "    saver = tf.train.Saver()\n",
    "\n",
    "with tf.Session(graph=train_graph) as sess:\n",
    "    saver.restore(sess, tf.train.latest_checkpoint('checkpoints'))\n",
    "    embed_mat = sess.run(embedding)"
   ]
  },
  {
   "cell_type": "markdown",
   "metadata": {
    "deletable": true,
    "editable": true
   },
   "source": [
    "## Visualizing the word vectors\n",
    "\n",
    "Below we'll use T-SNE to visualize how our high-dimensional word vectors cluster together. T-SNE is used to project these vectors into two dimensions while preserving local stucture. Check out [this post from Christopher Olah](http://colah.github.io/posts/2014-10-Visualizing-MNIST/) to learn more about T-SNE and other ways to visualize high-dimensional data."
   ]
  },
  {
   "cell_type": "code",
   "execution_count": null,
   "metadata": {
    "collapsed": false,
    "deletable": true,
    "editable": true
   },
   "outputs": [],
   "source": [
    "%matplotlib inline\n",
    "%config InlineBackend.figure_format = 'retina'\n",
    "\n",
    "import matplotlib.pyplot as plt\n",
    "from sklearn.manifold import TSNE"
   ]
  },
  {
   "cell_type": "code",
   "execution_count": null,
   "metadata": {
    "collapsed": false,
    "deletable": true,
    "editable": true
   },
   "outputs": [],
   "source": [
    "viz_words = 500\n",
    "tsne = TSNE()\n",
    "embed_tsne = tsne.fit_transform(embed_mat[:viz_words, :])"
   ]
  },
  {
   "cell_type": "code",
   "execution_count": null,
   "metadata": {
    "collapsed": false,
    "deletable": true,
    "editable": true
   },
   "outputs": [],
   "source": [
    "fig, ax = plt.subplots(figsize=(14, 14))\n",
    "for idx in range(viz_words):\n",
    "    plt.scatter(*embed_tsne[idx, :], color='steelblue')\n",
    "    plt.annotate(int_to_vocab[idx], (embed_tsne[idx, 0], embed_tsne[idx, 1]), alpha=0.7)"
   ]
  }
 ],
 "metadata": {
  "kernelspec": {
   "display_name": "Python 3",
   "language": "python",
   "name": "python3"
  },
  "language_info": {
   "codemirror_mode": {
    "name": "ipython",
    "version": 3
   },
   "file_extension": ".py",
   "mimetype": "text/x-python",
   "name": "python",
   "nbconvert_exporter": "python",
   "pygments_lexer": "ipython3",
   "version": "3.6.0"
  }
 },
 "nbformat": 4,
 "nbformat_minor": 2
}
